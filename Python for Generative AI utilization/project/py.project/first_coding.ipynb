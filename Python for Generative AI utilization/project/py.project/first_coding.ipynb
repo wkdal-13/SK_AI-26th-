{
 "cells": [
  {
   "cell_type": "code",
   "execution_count": 1,
   "id": "629e5f18",
   "metadata": {},
   "outputs": [
    {
     "name": "stdout",
     "output_type": "stream",
     "text": [
      "111\n"
     ]
    }
   ],
   "source": [
    "print(111)"
   ]
  },
  {
   "cell_type": "code",
   "execution_count": null,
   "id": "a681415a",
   "metadata": {},
   "outputs": [],
   "source": [
    "# 주석 => 코드 내부에서 사용, 코드로 인식 X, 간단한 메모\n",
    "# 변수 => 데이터를 저장(메모리: 플레시메로리)하는 방식\n",
    "# 변수이름(식별자) = 값(데이터: 숫자, 문자열, 논리값(True,False), 객체)\n",
    "# 변수에는 데이터를 저장하고 있는 메모리의 주소값을 저장 -> 내부적인 핵심\n",
    "num = 10    # 변수를 왜 저장? => 필요할 때 마다 부르고 사용하기 위해"
   ]
  },
  {
   "cell_type": "code",
   "execution_count": null,
   "id": "38bbf7bf",
   "metadata": {},
   "outputs": [
    {
     "name": "stdout",
     "output_type": "stream",
     "text": [
      "10\n"
     ]
    }
   ],
   "source": [
    "print(num)  # 변수를 사용"
   ]
  },
  {
   "cell_type": "code",
   "execution_count": null,
   "id": "f0ea0c0b",
   "metadata": {},
   "outputs": [
    {
     "data": {
      "text/plain": [
       "140723972359368"
      ]
     },
     "execution_count": 6,
     "metadata": {},
     "output_type": "execute_result"
    }
   ],
   "source": [
    "id(num)     # id = 메모리외 주소값"
   ]
  },
  {
   "cell_type": "code",
   "execution_count": 7,
   "id": "8768c0ce",
   "metadata": {},
   "outputs": [
    {
     "data": {
      "text/plain": [
       "110"
      ]
     },
     "execution_count": 7,
     "metadata": {},
     "output_type": "execute_result"
    }
   ],
   "source": [
    "num+100"
   ]
  },
  {
   "cell_type": "code",
   "execution_count": 8,
   "id": "00280d49",
   "metadata": {},
   "outputs": [],
   "source": [
    "# 변수 = 데이터\n",
    "# 데이터 => 숫자, 문자, 논리값\n",
    "# 숫자 => 정수, 실수\n",
    "num1=10\n",
    "num2=3.14"
   ]
  },
  {
   "cell_type": "code",
   "execution_count": 11,
   "id": "65288e73",
   "metadata": {},
   "outputs": [
    {
     "name": "stdout",
     "output_type": "stream",
     "text": [
      "<class 'int'>\n",
      "<class 'float'>\n"
     ]
    }
   ],
   "source": [
    "print(type(num1))\n",
    "print(type(num2))"
   ]
  },
  {
   "cell_type": "code",
   "execution_count": 12,
   "id": "a16e5408",
   "metadata": {},
   "outputs": [],
   "source": [
    "num3='hello~'"
   ]
  },
  {
   "cell_type": "code",
   "execution_count": 14,
   "id": "9a25e677",
   "metadata": {},
   "outputs": [
    {
     "name": "stdout",
     "output_type": "stream",
     "text": [
      "hello~\n",
      "<class 'str'>\n"
     ]
    }
   ],
   "source": [
    "print(num3)\n",
    "print(type(num3))"
   ]
  },
  {
   "cell_type": "code",
   "execution_count": 16,
   "id": "d234ccde",
   "metadata": {},
   "outputs": [],
   "source": [
    "# 논리값 : 참, 거짓 => True, False\n",
    "check1 = True\n",
    "check2 = False"
   ]
  },
  {
   "cell_type": "code",
   "execution_count": null,
   "id": "2062cdd9",
   "metadata": {},
   "outputs": [
    {
     "name": "stdout",
     "output_type": "stream",
     "text": [
      "True <class 'bool'>\n",
      "False <class 'bool'>\n"
     ]
    }
   ],
   "source": [
    "print(check1, type(check1))\n",
    "print(check2, type(check2))\n",
    "# 'bool' 타입은 True, False 만 저장하고 있음"
   ]
  },
  {
   "cell_type": "code",
   "execution_count": 24,
   "id": "0eb1a256",
   "metadata": {},
   "outputs": [],
   "source": [
    "str_a = 'python'"
   ]
  },
  {
   "cell_type": "code",
   "execution_count": 25,
   "id": "206aaec3",
   "metadata": {},
   "outputs": [
    {
     "data": {
      "text/plain": [
       "'PYTHON'"
      ]
     },
     "execution_count": 25,
     "metadata": {},
     "output_type": "execute_result"
    }
   ],
   "source": [
    "str_a.upper()\n",
    "# 주소값.메서드()"
   ]
  },
  {
   "cell_type": "code",
   "execution_count": 26,
   "id": "af12c702",
   "metadata": {},
   "outputs": [
    {
     "name": "stdout",
     "output_type": "stream",
     "text": [
      "<class 'str'>\n"
     ]
    }
   ],
   "source": [
    "print(type(str_a))"
   ]
  },
  {
   "cell_type": "code",
   "execution_count": 27,
   "id": "97dfe790",
   "metadata": {},
   "outputs": [],
   "source": [
    "str_a = 100"
   ]
  },
  {
   "cell_type": "code",
   "execution_count": 28,
   "id": "c8632bea",
   "metadata": {},
   "outputs": [
    {
     "name": "stdout",
     "output_type": "stream",
     "text": [
      "100 <class 'int'>\n"
     ]
    }
   ],
   "source": [
    "print(str_a, type(str_a))"
   ]
  },
  {
   "cell_type": "code",
   "execution_count": 1,
   "id": "ef0a5df7",
   "metadata": {},
   "outputs": [],
   "source": [
    "# 문자열 생성\n",
    "# ''. \"\". ''' ''', \"\"\" \"\"\"\n",
    "str_1='hello~'\n",
    "str_2=\"안녕하세요\"\n",
    "str_3='''첫째 라인\n",
    "안녕하세요\n",
    "반갑습니다.\n",
    "'''\n",
    "str_4=\"\"\"\n",
    "select *\n",
    "from emp\n",
    "where empno=10\n",
    "\"\"\""
   ]
  },
  {
   "cell_type": "code",
   "execution_count": 6,
   "id": "ba4e7cfc",
   "metadata": {},
   "outputs": [
    {
     "name": "stdout",
     "output_type": "stream",
     "text": [
      "hello~ <class 'str'>\n",
      "안녕하세요 <class 'str'>\n",
      "첫째 라인\n",
      "안녕하세요\n",
      "반갑습니다.\n",
      " <class 'str'>\n",
      "\n",
      "select *\n",
      "from emp\n",
      "where empno=10\n",
      " <class 'str'>\n"
     ]
    }
   ],
   "source": [
    "print(str_1, type(str_1))\n",
    "print(str_2, type(str_2))\n",
    "print(str_3, type(str_3))\n",
    "print(str_4, type(str_4))"
   ]
  },
  {
   "cell_type": "code",
   "execution_count": 9,
   "id": "6962a5e6",
   "metadata": {},
   "outputs": [
    {
     "name": "stdout",
     "output_type": "stream",
     "text": [
      "hello python!!\n",
      "==========\n"
     ]
    }
   ],
   "source": [
    "# 문자열의 연산\n",
    "# 사칙연산 X => 더하기(연결)\n",
    "# 곱샘 * => 반복(몇번 반복)\n",
    "print('hello'+' python!!')\n",
    "print('='*10)"
   ]
  },
  {
   "cell_type": "code",
   "execution_count": 11,
   "id": "0c8a94e2",
   "metadata": {},
   "outputs": [
    {
     "name": "stdout",
     "output_type": "stream",
     "text": [
      "6\n",
      "5\n"
     ]
    }
   ],
   "source": [
    "# 함수(기능) : 데이터 전달하면 => 처리(연산) -> 값을 반환\n",
    "# 문자열의 길이 반환 함수 : len(변수:시퀀스형식의 데이터)\n",
    "print(len(str_1))      # 6\n",
    "print(len(str_2))      # 5"
   ]
  },
  {
   "cell_type": "code",
   "execution_count": null,
   "id": "8f0f7ee8",
   "metadata": {},
   "outputs": [],
   "source": [
    "# 문자열 : 시퀀스 데이터 => 순서 O\n",
    "# 시퀀스 데이터의 데이터들의 구분 => index값\n",
    "# hello => ['h', 'e', 'l', 'l', 'o']\n",
    "#   index => 0    1    2    3    4   => 0 ~ N-1 => 0~4\n",
    "str_5='hello~ python!!'\n",
    "#      0123456789.."
   ]
  },
  {
   "cell_type": "code",
   "execution_count": 20,
   "id": "88a94cc9",
   "metadata": {},
   "outputs": [
    {
     "data": {
      "text/plain": [
       "'~'"
      ]
     },
     "execution_count": 20,
     "metadata": {},
     "output_type": "execute_result"
    }
   ],
   "source": [
    "str_5[5]"
   ]
  },
  {
   "cell_type": "code",
   "execution_count": 21,
   "id": "53e050fc",
   "metadata": {},
   "outputs": [
    {
     "data": {
      "text/plain": [
       "'hello'"
      ]
     },
     "execution_count": 21,
     "metadata": {},
     "output_type": "execute_result"
    }
   ],
   "source": [
    "# 문자열(시퀀스)의 슬라이싱\n",
    "# s[시작 index : 종료 index]   => 종료 index값을 만나면 탈출\n",
    "# str_5[0 : 5]\n",
    "str_5[0 : 5]"
   ]
  },
  {
   "cell_type": "code",
   "execution_count": null,
   "id": "87539d85",
   "metadata": {},
   "outputs": [
    {
     "name": "stdout",
     "output_type": "stream",
     "text": [
      "안녕하세요! 저는 손흥민 입니다. 나이는 30 입니다.\n"
     ]
    }
   ],
   "source": [
    "# 문자열 포맷팅\n",
    "# 3.6 버번 이후 f\"\"  , 접두사 f 붙이고 포맷팅\n",
    "user_name='손흥민'\n",
    "user_age=30\n",
    "print(f'안녕하세요! 저는 {user_name} 입니다. 나이는 {user_age} 입니다.')"
   ]
  },
  {
   "cell_type": "code",
   "execution_count": 24,
   "id": "313a49d3",
   "metadata": {},
   "outputs": [
    {
     "name": "stdout",
     "output_type": "stream",
     "text": [
      "내년에는 나이가 31살이 됩니다.\n"
     ]
    }
   ],
   "source": [
    "print(f'내년에는 나이가 {user_age+1}살이 됩니다.')"
   ]
  },
  {
   "cell_type": "code",
   "execution_count": 25,
   "id": "e6b32a6e",
   "metadata": {},
   "outputs": [],
   "source": [
    "# 복합 대입 연산\n",
    "num = 1"
   ]
  },
  {
   "cell_type": "code",
   "execution_count": 26,
   "id": "38afe6fe",
   "metadata": {},
   "outputs": [],
   "source": [
    "num = num + 1       # 대입 연산(=)은 마지막에 처리"
   ]
  },
  {
   "cell_type": "code",
   "execution_count": 27,
   "id": "aae5ee8f",
   "metadata": {},
   "outputs": [
    {
     "name": "stdout",
     "output_type": "stream",
     "text": [
      "2\n"
     ]
    }
   ],
   "source": [
    "print(num)"
   ]
  },
  {
   "cell_type": "code",
   "execution_count": 28,
   "id": "66039c5f",
   "metadata": {},
   "outputs": [],
   "source": [
    "num += 1            # num = num + 1을 간략화해서 보여주는 식 "
   ]
  },
  {
   "cell_type": "code",
   "execution_count": 29,
   "id": "00bf7716",
   "metadata": {},
   "outputs": [
    {
     "name": "stdout",
     "output_type": "stream",
     "text": [
      "3\n"
     ]
    }
   ],
   "source": [
    "print(num)"
   ]
  },
  {
   "cell_type": "markdown",
   "id": "0df4281f",
   "metadata": {},
   "source": [
    "### 연습문제 1\n",
    "과목별 점수, 총점, 평균점수 출력\n",
    "과목 : 국어, 영어, 수학"
   ]
  },
  {
   "cell_type": "code",
   "execution_count": 49,
   "id": "9a74914e",
   "metadata": {},
   "outputs": [
    {
     "name": "stdout",
     "output_type": "stream",
     "text": [
      "국어=85 영어=74 수학=96 \n",
      "총점=255 \n",
      "평균=85.0\n"
     ]
    }
   ],
   "source": [
    "# 과목별 점수의 총합과 평균 및 총점과 평균 출력\n",
    "# 변수 선언, 초기화\n",
    "korean = 85         # 국어점수\n",
    "english = 74        # 영어점수\n",
    "math = 96           # 수학점수\n",
    "\n",
    "sum = korean + english + math       # 점수의 총점\n",
    "mean = sum / 3                      # 평균\n",
    "\n",
    "print(f'국어={korean} 영어={english} 수학={math} \\n총점={sum} \\n평균={mean}')"
   ]
  },
  {
   "cell_type": "markdown",
   "id": "5925047d",
   "metadata": {},
   "source": [
    "### 연습문제 2\n",
    "성별이 남성이고 18세 이상인 성인 여부를 판단하는 조건식"
   ]
  },
  {
   "cell_type": "code",
   "execution_count": 55,
   "id": "521aeda6",
   "metadata": {},
   "outputs": [],
   "source": [
    "# 성별이 남성이고 18세 이상의 성인 여부를 판단하는 조건식\n",
    "# 변수 선언\n",
    "gender='M'      # 성별 : 'M' | 'F'\n",
    "age= 20"
   ]
  },
  {
   "cell_type": "code",
   "execution_count": 58,
   "id": "a9d80c65",
   "metadata": {},
   "outputs": [],
   "source": [
    "# 2. 남성 그리고 성인\n",
    "check = gender == 'M' and age >= 18"
   ]
  },
  {
   "cell_type": "code",
   "execution_count": 59,
   "id": "389041ac",
   "metadata": {},
   "outputs": [
    {
     "name": "stdout",
     "output_type": "stream",
     "text": [
      "성인 남성 체크 : True\n"
     ]
    }
   ],
   "source": [
    "# 3. 출력\n",
    "print('성인 남성 체크 :', check)"
   ]
  },
  {
   "cell_type": "code",
   "execution_count": 64,
   "id": "5f5a69c5",
   "metadata": {},
   "outputs": [],
   "source": [
    "# 리스트 : [] => 순서를 가지는 데이터 묶음\n",
    "# index 값으로 요소들을 참조 => 0 ~ N(요소의 개수)-1\n",
    "list_a=[1,2,3]\n",
    "# index 0 1 2\n",
    "# 요소의 개수 : 3"
   ]
  },
  {
   "cell_type": "code",
   "execution_count": 67,
   "id": "a2aac313",
   "metadata": {},
   "outputs": [
    {
     "name": "stdout",
     "output_type": "stream",
     "text": [
      "[1, 2, 3] <class 'list'>\n"
     ]
    }
   ],
   "source": [
    "print(list_a, type(list_a))"
   ]
  },
  {
   "cell_type": "code",
   "execution_count": null,
   "id": "f44bcb17",
   "metadata": {},
   "outputs": [],
   "source": [
    "# 25.06.09 배운 클래스\n",
    "# bool(), int(), flaot(), str(), list()"
   ]
  },
  {
   "cell_type": "code",
   "execution_count": 69,
   "id": "27bad7ff",
   "metadata": {},
   "outputs": [
    {
     "data": {
      "text/plain": [
       "3"
      ]
     },
     "execution_count": 69,
     "metadata": {},
     "output_type": "execute_result"
    }
   ],
   "source": [
    "# 요소의 참조\n",
    "list_a[2]"
   ]
  },
  {
   "cell_type": "code",
   "execution_count": null,
   "id": "4fde3a4c",
   "metadata": {},
   "outputs": [],
   "source": [
    "list_a[2] = 4       # list_a의 두번째 인덱스 값을 4로 변환"
   ]
  },
  {
   "cell_type": "code",
   "execution_count": null,
   "id": "2500dd9f",
   "metadata": {},
   "outputs": [
    {
     "data": {
      "text/plain": [
       "4"
      ]
     },
     "execution_count": 71,
     "metadata": {},
     "output_type": "execute_result"
    }
   ],
   "source": [
    "list_a[2]       # list_a[2]의 값이 3에서 4로 변환됨을 확인"
   ]
  },
  {
   "cell_type": "markdown",
   "id": "f4e46d2b",
   "metadata": {},
   "source": [
    "### 딕셔너리 자료형\n",
    "#### 딕셔너리를 만드는 방법 \n",
    "  - key와 value의 쌍 여러개(key:value)가 { }로 둘러싸임\n",
    "  - 각 요소는 쉽표(,)로 구분됨\n",
    "\n",
    "#### 딕셔너리를 사용하는 방법 \n",
    "딕셔너리에서 key를 사용해 value 얻기\n",
    "  - 리스트나 튜플, 문자열은 요소 값 접근 시 인덱싱이나 슬라이싱 기법 중 하나를 사용\n",
    "  - 딕셔너리는 key를 사용해 value 접근\n",
    "\n",
    "딕셔너리 만들 때 주의할 사항\n",
    "  - 딕셔너리에는 동일한 key가 중복으로 존재할 수 없음\n",
    "  - 리스트는 그 값이 변할 수 있기 때문에 key로 쓸 수 없으나 value에는 아무 값이나 가능"
   ]
  },
  {
   "cell_type": "code",
   "execution_count": 37,
   "id": "a1c6a21f",
   "metadata": {},
   "outputs": [],
   "source": [
    "player={\n",
    "    'Team': 'TOT', \n",
    "    'Name': 'SON', \n",
    "    'Number': '7'\n",
    "}"
   ]
  },
  {
   "cell_type": "code",
   "execution_count": 38,
   "id": "0a2e715a",
   "metadata": {},
   "outputs": [
    {
     "data": {
      "text/plain": [
       "dict_keys(['Team', 'Name', 'Number'])"
      ]
     },
     "execution_count": 38,
     "metadata": {},
     "output_type": "execute_result"
    }
   ],
   "source": [
    "player.keys()"
   ]
  },
  {
   "cell_type": "code",
   "execution_count": 39,
   "id": "ba5e6d5c",
   "metadata": {},
   "outputs": [
    {
     "data": {
      "text/plain": [
       "['Team', 'Name', 'Number']"
      ]
     },
     "execution_count": 39,
     "metadata": {},
     "output_type": "execute_result"
    }
   ],
   "source": [
    "list(player.keys())         # key 리스트: key만을 모아서 dict_keys 객체 리턴턴"
   ]
  },
  {
   "cell_type": "code",
   "execution_count": 40,
   "id": "78a5752d",
   "metadata": {},
   "outputs": [
    {
     "data": {
      "text/plain": [
       "dict_values(['TOT', 'SON', '7'])"
      ]
     },
     "execution_count": 40,
     "metadata": {},
     "output_type": "execute_result"
    }
   ],
   "source": [
    "player.values()"
   ]
  },
  {
   "cell_type": "code",
   "execution_count": 41,
   "id": "eb134dff",
   "metadata": {},
   "outputs": [
    {
     "data": {
      "text/plain": [
       "['TOT', 'SON', '7']"
      ]
     },
     "execution_count": 41,
     "metadata": {},
     "output_type": "execute_result"
    }
   ],
   "source": [
    "list(player.values())       # value 리스트: value만을 모아서 dict_values 객체 리턴"
   ]
  },
  {
   "cell_type": "code",
   "execution_count": 42,
   "id": "3c36e9cd",
   "metadata": {},
   "outputs": [
    {
     "data": {
      "text/plain": [
       "False"
      ]
     },
     "execution_count": 42,
     "metadata": {},
     "output_type": "execute_result"
    }
   ],
   "source": [
    "'age' in player         # in : 해당 key가 딕셔너리 안에 있는지 조사하기\n",
    "                        # key가 딕셔너리 안에 존재하면 True, \n",
    "                        # 존재하지 않으면 False 리턴"
   ]
  },
  {
   "cell_type": "code",
   "execution_count": 43,
   "id": "d508a8ed",
   "metadata": {},
   "outputs": [
    {
     "data": {
      "text/plain": [
       "dict_items([('Team', 'TOT'), ('Name', 'SON'), ('Number', '7')])"
      ]
     },
     "execution_count": 43,
     "metadata": {},
     "output_type": "execute_result"
    }
   ],
   "source": [
    "player.items()          # key와 value의 쌍을 튜플로 묶어 dict_items 객체 리턴"
   ]
  },
  {
   "cell_type": "code",
   "execution_count": 44,
   "id": "2715e0a2",
   "metadata": {},
   "outputs": [
    {
     "data": {
      "text/plain": [
       "[('Team', 'TOT'), ('Name', 'SON'), ('Number', '7')]"
      ]
     },
     "execution_count": 44,
     "metadata": {},
     "output_type": "execute_result"
    }
   ],
   "source": [
    "list(player.items())"
   ]
  },
  {
   "cell_type": "code",
   "execution_count": 45,
   "id": "ca4d63da",
   "metadata": {},
   "outputs": [],
   "source": [
    "list_temp=list(player.items())"
   ]
  },
  {
   "cell_type": "code",
   "execution_count": 46,
   "id": "80750c82",
   "metadata": {},
   "outputs": [
    {
     "data": {
      "text/plain": [
       "[('Team', 'TOT'), ('Name', 'SON'), ('Number', '7')]"
      ]
     },
     "execution_count": 46,
     "metadata": {},
     "output_type": "execute_result"
    }
   ],
   "source": [
    "list_temp"
   ]
  },
  {
   "cell_type": "code",
   "execution_count": null,
   "id": "e1efeade",
   "metadata": {},
   "outputs": [
    {
     "ename": "KeyError",
     "evalue": "'pos'",
     "output_type": "error",
     "traceback": [
      "\u001b[31m---------------------------------------------------------------------------\u001b[39m",
      "\u001b[31mKeyError\u001b[39m                                  Traceback (most recent call last)",
      "\u001b[36mCell\u001b[39m\u001b[36m \u001b[39m\u001b[32mIn[29]\u001b[39m\u001b[32m, line 1\u001b[39m\n\u001b[32m----> \u001b[39m\u001b[32m1\u001b[39m \u001b[43mplayer\u001b[49m\u001b[43m[\u001b[49m\u001b[33;43m'\u001b[39;49m\u001b[33;43mpos\u001b[39;49m\u001b[33;43m'\u001b[39;49m\u001b[43m]\u001b[49m\n",
      "\u001b[31mKeyError\u001b[39m: 'pos'"
     ]
    }
   ],
   "source": [
    "player['pos']          # player에 'pos'값이 없기 때문에 오류를 뿜음"
   ]
  },
  {
   "cell_type": "code",
   "execution_count": 47,
   "id": "0f921160",
   "metadata": {},
   "outputs": [
    {
     "data": {
      "text/plain": [
       "'SON'"
      ]
     },
     "execution_count": 47,
     "metadata": {},
     "output_type": "execute_result"
    }
   ],
   "source": [
    "player.get('Name')"
   ]
  },
  {
   "cell_type": "code",
   "execution_count": 48,
   "id": "9f39e2f1",
   "metadata": {},
   "outputs": [],
   "source": [
    "player.get('pos')       # get을 쓰면 위의 오류를 내뿜지 않고, 반환을 하지 않음."
   ]
  },
  {
   "cell_type": "code",
   "execution_count": 49,
   "id": "4d20e740",
   "metadata": {},
   "outputs": [],
   "source": [
    "pos=player.get('pos')   # pos가 none이기 때문에 반환하지 X"
   ]
  },
  {
   "cell_type": "code",
   "execution_count": 50,
   "id": "918e03d6",
   "metadata": {},
   "outputs": [
    {
     "name": "stdout",
     "output_type": "stream",
     "text": [
      "None\n"
     ]
    }
   ],
   "source": [
    "print(pos)"
   ]
  },
  {
   "cell_type": "code",
   "execution_count": 51,
   "id": "bd57b693",
   "metadata": {},
   "outputs": [],
   "source": [
    "pos1=player.get('pos', 'no pos')"
   ]
  },
  {
   "cell_type": "code",
   "execution_count": 52,
   "id": "985c1cd6",
   "metadata": {},
   "outputs": [
    {
     "name": "stdout",
     "output_type": "stream",
     "text": [
      "no pos\n"
     ]
    }
   ],
   "source": [
    "print(pos1)"
   ]
  },
  {
   "cell_type": "code",
   "execution_count": null,
   "id": "c0550c1c",
   "metadata": {},
   "outputs": [
    {
     "data": {
      "text/plain": [
       "{1, 2, 3, 4, 5}"
      ]
     },
     "execution_count": 53,
     "metadata": {},
     "output_type": "execute_result"
    }
   ],
   "source": [
    "# set : 집합 => 중복 X, 순서 X, 집합 연산 사용\n",
    "s_1=set([1,2,3,4,1,2,5])        # 1,2,3,4,5 예상\n",
    "s_1"
   ]
  },
  {
   "cell_type": "code",
   "execution_count": null,
   "id": "d9aeca35",
   "metadata": {},
   "outputs": [
    {
     "data": {
      "text/plain": [
       "{'e', 'h', 'l', 'o'}"
      ]
     },
     "execution_count": 54,
     "metadata": {},
     "output_type": "execute_result"
    }
   ],
   "source": [
    "set_2=set('hello')\n",
    "set_2           # l두개 중 하나만 출력"
   ]
  },
  {
   "cell_type": "code",
   "execution_count": 55,
   "id": "f9708cba",
   "metadata": {},
   "outputs": [
    {
     "name": "stdout",
     "output_type": "stream",
     "text": [
      "[1, 2, 3, 4, 5]\n"
     ]
    }
   ],
   "source": [
    "list_a=list(s_1)\n",
    "print(list_a)"
   ]
  },
  {
   "cell_type": "code",
   "execution_count": 57,
   "id": "75427b0e",
   "metadata": {},
   "outputs": [],
   "source": [
    "set_2=set([1,2,3,4,5,6])\n",
    "set_3=set([4,5,6,7,8,9])"
   ]
  },
  {
   "cell_type": "code",
   "execution_count": null,
   "id": "dc3746f0",
   "metadata": {},
   "outputs": [
    {
     "name": "stdout",
     "output_type": "stream",
     "text": [
      "{4, 5, 6}\n",
      "{1, 2, 3, 4, 5, 6, 7, 8, 9}\n",
      "{1, 2, 3}\n"
     ]
    }
   ],
   "source": [
    "print(set_2 & set_3)        # 교집합\n",
    "print(set_2 | set_3)        # 합집합\n",
    "print(set_2 - set_3)        # 차집합 (set_2 데이터 - set_3 데이터)"
   ]
  },
  {
   "cell_type": "code",
   "execution_count": 72,
   "id": "b94eaa30",
   "metadata": {},
   "outputs": [],
   "source": [
    "# set 에서 데이터 추가(중복 데이터 입력 X) 삭제\n",
    "set_2.add(7)        # set_2에 7을 추가\n",
    "set_2.add(3)        # set_2에 3은 중복 되어 입력되지 않음"
   ]
  },
  {
   "cell_type": "code",
   "execution_count": 73,
   "id": "a4430d80",
   "metadata": {},
   "outputs": [
    {
     "data": {
      "text/plain": [
       "{1, 2, 3, 4, 5, 6, 7}"
      ]
     },
     "execution_count": 73,
     "metadata": {},
     "output_type": "execute_result"
    }
   ],
   "source": [
    "set_2"
   ]
  },
  {
   "cell_type": "code",
   "execution_count": 75,
   "id": "9f92f478",
   "metadata": {},
   "outputs": [],
   "source": [
    "set_2.remove(7)     # set_2에 7을 제거"
   ]
  },
  {
   "cell_type": "code",
   "execution_count": 76,
   "id": "ee67c953",
   "metadata": {},
   "outputs": [
    {
     "data": {
      "text/plain": [
       "{1, 2, 3, 4, 5, 6}"
      ]
     },
     "execution_count": 76,
     "metadata": {},
     "output_type": "execute_result"
    }
   ],
   "source": [
    "set_2"
   ]
  },
  {
   "cell_type": "code",
   "execution_count": null,
   "id": "a0f16244",
   "metadata": {},
   "outputs": [],
   "source": [
    "set_2.update([1,1,3,4,7,8])     # update 안에 있는 데이터를 add 하겠다는 의미"
   ]
  },
  {
   "cell_type": "code",
   "execution_count": null,
   "id": "4fc2962d",
   "metadata": {},
   "outputs": [
    {
     "data": {
      "text/plain": [
       "{1, 2, 3, 4, 5, 6, 7, 8}"
      ]
     },
     "execution_count": 78,
     "metadata": {},
     "output_type": "execute_result"
    }
   ],
   "source": [
    "set_2                  # 1,3,4는 이미 있는 데이터라 추가 되지 않고, 7과 8만 추가됨"
   ]
  },
  {
   "cell_type": "code",
   "execution_count": null,
   "id": "f7b3c4f8",
   "metadata": {},
   "outputs": [],
   "source": []
  }
 ],
 "metadata": {
  "kernelspec": {
   "display_name": ".venv",
   "language": "python",
   "name": "python3"
  },
  "language_info": {
   "codemirror_mode": {
    "name": "ipython",
    "version": 3
   },
   "file_extension": ".py",
   "mimetype": "text/x-python",
   "name": "python",
   "nbconvert_exporter": "python",
   "pygments_lexer": "ipython3",
   "version": "3.13.4"
  }
 },
 "nbformat": 4,
 "nbformat_minor": 5
}
