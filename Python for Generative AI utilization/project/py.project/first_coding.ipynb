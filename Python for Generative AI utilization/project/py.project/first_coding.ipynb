{
 "cells": [
  {
   "cell_type": "code",
   "execution_count": 1,
   "id": "629e5f18",
   "metadata": {},
   "outputs": [
    {
     "name": "stdout",
     "output_type": "stream",
     "text": [
      "111\n"
     ]
    }
   ],
   "source": [
    "print(111)"
   ]
  },
  {
   "cell_type": "code",
   "execution_count": null,
   "id": "a681415a",
   "metadata": {},
   "outputs": [],
   "source": [
    "# 주석 => 코드 내부에서 사용, 코드로 인식 X, 간단한 메모\n",
    "# 변수 => 데이터를 저장(메모리: 플레시메로리)하는 방식\n",
    "# 변수이름(식별자) = 값(데이터: 숫자, 문자열, 논리값(True,False), 객체)\n",
    "# 변수에는 데이터를 저장하고 있는 메모리의 주소값을 저장 -> 내부적인 핵심\n",
    "num = 10    # 변수를 왜 저장? => 필요할 때 마다 부르고 사용하기 위해"
   ]
  },
  {
   "cell_type": "code",
   "execution_count": null,
   "id": "38bbf7bf",
   "metadata": {},
   "outputs": [
    {
     "name": "stdout",
     "output_type": "stream",
     "text": [
      "10\n"
     ]
    }
   ],
   "source": [
    "print(num)  # 변수를 사용"
   ]
  },
  {
   "cell_type": "code",
   "execution_count": null,
   "id": "f0ea0c0b",
   "metadata": {},
   "outputs": [
    {
     "data": {
      "text/plain": [
       "140723972359368"
      ]
     },
     "execution_count": 6,
     "metadata": {},
     "output_type": "execute_result"
    }
   ],
   "source": [
    "id(num)     # id = 메모리외 주소값"
   ]
  },
  {
   "cell_type": "code",
   "execution_count": 7,
   "id": "8768c0ce",
   "metadata": {},
   "outputs": [
    {
     "data": {
      "text/plain": [
       "110"
      ]
     },
     "execution_count": 7,
     "metadata": {},
     "output_type": "execute_result"
    }
   ],
   "source": [
    "num+100"
   ]
  },
  {
   "cell_type": "code",
   "execution_count": 8,
   "id": "00280d49",
   "metadata": {},
   "outputs": [],
   "source": [
    "# 변수 = 데이터\n",
    "# 데이터 => 숫자, 문자, 논리값\n",
    "# 숫자 => 정수, 실수\n",
    "num1=10\n",
    "num2=3.14"
   ]
  },
  {
   "cell_type": "code",
   "execution_count": 11,
   "id": "65288e73",
   "metadata": {},
   "outputs": [
    {
     "name": "stdout",
     "output_type": "stream",
     "text": [
      "<class 'int'>\n",
      "<class 'float'>\n"
     ]
    }
   ],
   "source": [
    "print(type(num1))\n",
    "print(type(num2))"
   ]
  },
  {
   "cell_type": "code",
   "execution_count": 12,
   "id": "a16e5408",
   "metadata": {},
   "outputs": [],
   "source": [
    "num3='hello~'"
   ]
  },
  {
   "cell_type": "code",
   "execution_count": 14,
   "id": "9a25e677",
   "metadata": {},
   "outputs": [
    {
     "name": "stdout",
     "output_type": "stream",
     "text": [
      "hello~\n",
      "<class 'str'>\n"
     ]
    }
   ],
   "source": [
    "print(num3)\n",
    "print(type(num3))"
   ]
  },
  {
   "cell_type": "code",
   "execution_count": 16,
   "id": "d234ccde",
   "metadata": {},
   "outputs": [],
   "source": [
    "# 논리값 : 참, 거짓 => True, False\n",
    "check1 = True\n",
    "check2 = False"
   ]
  },
  {
   "cell_type": "code",
   "execution_count": null,
   "id": "2062cdd9",
   "metadata": {},
   "outputs": [
    {
     "name": "stdout",
     "output_type": "stream",
     "text": [
      "True <class 'bool'>\n",
      "False <class 'bool'>\n"
     ]
    }
   ],
   "source": [
    "print(check1, type(check1))\n",
    "print(check2, type(check2))\n",
    "# 'bool' 타입은 True, False 만 저장하고 있음"
   ]
  },
  {
   "cell_type": "code",
   "execution_count": 24,
   "id": "0eb1a256",
   "metadata": {},
   "outputs": [],
   "source": [
    "str_a = 'python'"
   ]
  },
  {
   "cell_type": "code",
   "execution_count": 25,
   "id": "206aaec3",
   "metadata": {},
   "outputs": [
    {
     "data": {
      "text/plain": [
       "'PYTHON'"
      ]
     },
     "execution_count": 25,
     "metadata": {},
     "output_type": "execute_result"
    }
   ],
   "source": [
    "str_a.upper()\n",
    "# 주소값.메서드()"
   ]
  },
  {
   "cell_type": "code",
   "execution_count": 26,
   "id": "af12c702",
   "metadata": {},
   "outputs": [
    {
     "name": "stdout",
     "output_type": "stream",
     "text": [
      "<class 'str'>\n"
     ]
    }
   ],
   "source": [
    "print(type(str_a))"
   ]
  },
  {
   "cell_type": "code",
   "execution_count": 27,
   "id": "97dfe790",
   "metadata": {},
   "outputs": [],
   "source": [
    "str_a = 100"
   ]
  },
  {
   "cell_type": "code",
   "execution_count": 28,
   "id": "c8632bea",
   "metadata": {},
   "outputs": [
    {
     "name": "stdout",
     "output_type": "stream",
     "text": [
      "100 <class 'int'>\n"
     ]
    }
   ],
   "source": [
    "print(str_a, type(str_a))"
   ]
  },
  {
   "cell_type": "code",
   "execution_count": 1,
   "id": "ef0a5df7",
   "metadata": {},
   "outputs": [],
   "source": [
    "# 문자열 생성\n",
    "# ''. \"\". ''' ''', \"\"\" \"\"\"\n",
    "str_1='hello~'\n",
    "str_2=\"안녕하세요\"\n",
    "str_3='''첫째 라인\n",
    "안녕하세요\n",
    "반갑습니다.\n",
    "'''\n",
    "str_4=\"\"\"\n",
    "select *\n",
    "from emp\n",
    "where empno=10\n",
    "\"\"\""
   ]
  },
  {
   "cell_type": "code",
   "execution_count": 6,
   "id": "ba4e7cfc",
   "metadata": {},
   "outputs": [
    {
     "name": "stdout",
     "output_type": "stream",
     "text": [
      "hello~ <class 'str'>\n",
      "안녕하세요 <class 'str'>\n",
      "첫째 라인\n",
      "안녕하세요\n",
      "반갑습니다.\n",
      " <class 'str'>\n",
      "\n",
      "select *\n",
      "from emp\n",
      "where empno=10\n",
      " <class 'str'>\n"
     ]
    }
   ],
   "source": [
    "print(str_1, type(str_1))\n",
    "print(str_2, type(str_2))\n",
    "print(str_3, type(str_3))\n",
    "print(str_4, type(str_4))"
   ]
  },
  {
   "cell_type": "code",
   "execution_count": 9,
   "id": "6962a5e6",
   "metadata": {},
   "outputs": [
    {
     "name": "stdout",
     "output_type": "stream",
     "text": [
      "hello python!!\n",
      "==========\n"
     ]
    }
   ],
   "source": [
    "# 문자열의 연산\n",
    "# 사칙연산 X => 더하기(연결)\n",
    "# 곱샘 * => 반복(몇번 반복)\n",
    "print('hello'+' python!!')\n",
    "print('='*10)"
   ]
  },
  {
   "cell_type": "code",
   "execution_count": 11,
   "id": "0c8a94e2",
   "metadata": {},
   "outputs": [
    {
     "name": "stdout",
     "output_type": "stream",
     "text": [
      "6\n",
      "5\n"
     ]
    }
   ],
   "source": [
    "# 함수(기능) : 데이터 전달하면 => 처리(연산) -> 값을 반환\n",
    "# 문자열의 길이 반환 함수 : len(변수:시퀀스형식의 데이터)\n",
    "print(len(str_1))      # 6\n",
    "print(len(str_2))      # 5"
   ]
  },
  {
   "cell_type": "code",
   "execution_count": null,
   "id": "8f0f7ee8",
   "metadata": {},
   "outputs": [],
   "source": [
    "# 문자열 : 시퀀스 데이터 => 순서 O\n",
    "# 시퀀스 데이터의 데이터들의 구분 => index값\n",
    "# hello => ['h', 'e', 'l', 'l', 'o']\n",
    "#   index => 0    1    2    3    4   => 0 ~ N-1 => 0~4\n",
    "str_5='hello~ python!!'\n",
    "#      0123456789.."
   ]
  },
  {
   "cell_type": "code",
   "execution_count": 20,
   "id": "88a94cc9",
   "metadata": {},
   "outputs": [
    {
     "data": {
      "text/plain": [
       "'~'"
      ]
     },
     "execution_count": 20,
     "metadata": {},
     "output_type": "execute_result"
    }
   ],
   "source": [
    "str_5[5]"
   ]
  },
  {
   "cell_type": "code",
   "execution_count": 21,
   "id": "53e050fc",
   "metadata": {},
   "outputs": [
    {
     "data": {
      "text/plain": [
       "'hello'"
      ]
     },
     "execution_count": 21,
     "metadata": {},
     "output_type": "execute_result"
    }
   ],
   "source": [
    "# 문자열(시퀀스)의 슬라이싱\n",
    "# s[시작 index : 종료 index]   => 종료 index값을 만나면 탈출\n",
    "# str_5[0 : 5]\n",
    "str_5[0 : 5]"
   ]
  },
  {
   "cell_type": "code",
   "execution_count": null,
   "id": "87539d85",
   "metadata": {},
   "outputs": [
    {
     "name": "stdout",
     "output_type": "stream",
     "text": [
      "안녕하세요! 저는 손흥민 입니다. 나이는 30 입니다.\n"
     ]
    }
   ],
   "source": [
    "# 문자열 포맷팅\n",
    "# 3.6 버번 이후 f\"\"  , 접두사 f 붙이고 포맷팅\n",
    "user_name='손흥민'\n",
    "user_age=30\n",
    "print(f'안녕하세요! 저는 {user_name} 입니다. 나이는 {user_age} 입니다.')"
   ]
  },
  {
   "cell_type": "code",
   "execution_count": 24,
   "id": "313a49d3",
   "metadata": {},
   "outputs": [
    {
     "name": "stdout",
     "output_type": "stream",
     "text": [
      "내년에는 나이가 31살이 됩니다.\n"
     ]
    }
   ],
   "source": [
    "print(f'내년에는 나이가 {user_age+1}살이 됩니다.')"
   ]
  },
  {
   "cell_type": "code",
   "execution_count": 25,
   "id": "e6b32a6e",
   "metadata": {},
   "outputs": [],
   "source": [
    "# 복합 대입 연산\n",
    "num = 1"
   ]
  },
  {
   "cell_type": "code",
   "execution_count": 26,
   "id": "38afe6fe",
   "metadata": {},
   "outputs": [],
   "source": [
    "num = num + 1       # 대입 연산(=)은 마지막에 처리"
   ]
  },
  {
   "cell_type": "code",
   "execution_count": 27,
   "id": "aae5ee8f",
   "metadata": {},
   "outputs": [
    {
     "name": "stdout",
     "output_type": "stream",
     "text": [
      "2\n"
     ]
    }
   ],
   "source": [
    "print(num)"
   ]
  },
  {
   "cell_type": "code",
   "execution_count": 28,
   "id": "66039c5f",
   "metadata": {},
   "outputs": [],
   "source": [
    "num += 1            # num = num + 1을 간략화해서 보여주는 식 "
   ]
  },
  {
   "cell_type": "code",
   "execution_count": 29,
   "id": "00bf7716",
   "metadata": {},
   "outputs": [
    {
     "name": "stdout",
     "output_type": "stream",
     "text": [
      "3\n"
     ]
    }
   ],
   "source": [
    "print(num)"
   ]
  },
  {
   "cell_type": "markdown",
   "id": "0df4281f",
   "metadata": {},
   "source": [
    "### 연습문제 1\n",
    "과목별 점수, 총점, 평균점수 출력\n",
    "과목 : 국어, 영어, 수학"
   ]
  },
  {
   "cell_type": "code",
   "execution_count": 49,
   "id": "9a74914e",
   "metadata": {},
   "outputs": [
    {
     "name": "stdout",
     "output_type": "stream",
     "text": [
      "국어=85 영어=74 수학=96 \n",
      "총점=255 \n",
      "평균=85.0\n"
     ]
    }
   ],
   "source": [
    "# 과목별 점수의 총합과 평균 및 총점과 평균 출력\n",
    "# 변수 선언, 초기화\n",
    "korean = 85         # 국어점수\n",
    "english = 74        # 영어점수\n",
    "math = 96           # 수학점수\n",
    "\n",
    "sum = korean + english + math       # 점수의 총점\n",
    "mean = sum / 3                      # 평균\n",
    "\n",
    "print(f'국어={korean} 영어={english} 수학={math} \\n총점={sum} \\n평균={mean}')"
   ]
  },
  {
   "cell_type": "markdown",
   "id": "5925047d",
   "metadata": {},
   "source": [
    "### 연습문제 2\n",
    "성별이 남성이고 18세 이상인 성인 여부를 판단하는 조건식"
   ]
  },
  {
   "cell_type": "code",
   "execution_count": 55,
   "id": "521aeda6",
   "metadata": {},
   "outputs": [],
   "source": [
    "# 성별이 남성이고 18세 이상의 성인 여부를 판단하는 조건식\n",
    "# 변수 선언\n",
    "gender='M'      # 성별 : 'M' | 'F'\n",
    "age= 20"
   ]
  },
  {
   "cell_type": "code",
   "execution_count": 58,
   "id": "a9d80c65",
   "metadata": {},
   "outputs": [],
   "source": [
    "# 2. 남성 그리고 성인\n",
    "check = gender == 'M' and age >= 18"
   ]
  },
  {
   "cell_type": "code",
   "execution_count": 59,
   "id": "389041ac",
   "metadata": {},
   "outputs": [
    {
     "name": "stdout",
     "output_type": "stream",
     "text": [
      "성인 남성 체크 : True\n"
     ]
    }
   ],
   "source": [
    "# 3. 출력\n",
    "print('성인 남성 체크 :', check)"
   ]
  },
  {
   "cell_type": "code",
   "execution_count": 64,
   "id": "5f5a69c5",
   "metadata": {},
   "outputs": [],
   "source": [
    "# 리스트 : [] => 순서를 가지는 데이터 묶음\n",
    "# index 값으로 요소들을 참조 => 0 ~ N(요소의 개수)-1\n",
    "list_a=[1,2,3]\n",
    "# index 0 1 2\n",
    "# 요소의 개수 : 3"
   ]
  },
  {
   "cell_type": "code",
   "execution_count": 67,
   "id": "a2aac313",
   "metadata": {},
   "outputs": [
    {
     "name": "stdout",
     "output_type": "stream",
     "text": [
      "[1, 2, 3] <class 'list'>\n"
     ]
    }
   ],
   "source": [
    "print(list_a, type(list_a))"
   ]
  },
  {
   "cell_type": "code",
   "execution_count": null,
   "id": "f44bcb17",
   "metadata": {},
   "outputs": [],
   "source": [
    "# 25.06.09 배운 클래스\n",
    "# bool(), int(), flaot(), str(), list()"
   ]
  },
  {
   "cell_type": "code",
   "execution_count": 69,
   "id": "27bad7ff",
   "metadata": {},
   "outputs": [
    {
     "data": {
      "text/plain": [
       "3"
      ]
     },
     "execution_count": 69,
     "metadata": {},
     "output_type": "execute_result"
    }
   ],
   "source": [
    "# 요소의 참조\n",
    "list_a[2]"
   ]
  },
  {
   "cell_type": "code",
   "execution_count": null,
   "id": "4fde3a4c",
   "metadata": {},
   "outputs": [],
   "source": [
    "list_a[2] = 4       # list_a의 두번째 인덱스 값을 4로 변환"
   ]
  },
  {
   "cell_type": "code",
   "execution_count": null,
   "id": "2500dd9f",
   "metadata": {},
   "outputs": [
    {
     "data": {
      "text/plain": [
       "4"
      ]
     },
     "execution_count": 71,
     "metadata": {},
     "output_type": "execute_result"
    }
   ],
   "source": [
    "list_a[2]       # list_a[2]의 값이 3에서 4로 변환됨을 확인"
   ]
  },
  {
   "cell_type": "code",
   "execution_count": null,
   "id": "1eb3b566",
   "metadata": {},
   "outputs": [],
   "source": []
  },
  {
   "cell_type": "code",
   "execution_count": null,
   "id": "955b595a",
   "metadata": {},
   "outputs": [],
   "source": []
  }
 ],
 "metadata": {
  "kernelspec": {
   "display_name": ".venv",
   "language": "python",
   "name": "python3"
  },
  "language_info": {
   "codemirror_mode": {
    "name": "ipython",
    "version": 3
   },
   "file_extension": ".py",
   "mimetype": "text/x-python",
   "name": "python",
   "nbconvert_exporter": "python",
   "pygments_lexer": "ipython3",
   "version": "3.13.4"
  }
 },
 "nbformat": 4,
 "nbformat_minor": 5
}
