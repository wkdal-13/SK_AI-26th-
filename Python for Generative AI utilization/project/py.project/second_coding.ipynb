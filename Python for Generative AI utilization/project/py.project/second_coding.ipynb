{
 "cells": [
  {
   "cell_type": "markdown",
   "id": "a5f4da7c",
   "metadata": {},
   "source": [
    "### 프로그램의 흐름제어\n",
    "- **if 문\n",
    "- while 문\n",
    "- for 문"
   ]
  },
  {
   "cell_type": "code",
   "execution_count": 2,
   "id": "18c31d1d",
   "metadata": {},
   "outputs": [
    {
     "name": "stdout",
     "output_type": "stream",
     "text": [
      "환영합니다~~~\n",
      "게임을 시작하세요!\n"
     ]
    }
   ],
   "source": [
    "# if : 분기 => ~ 라면, 아니라면\n",
    "# 성인이라면, 성인이 아니라면\n",
    "age=25\n",
    "\n",
    "# 성인이라면 -> 환영 메시지, 미성년 -> 킥~\n",
    "if age>=18 :\n",
    "    print('환영합니다~~~')\n",
    "    print('게임을 시작하세요!')\n",
    "else :\n",
    "    print('킥~~~')\n",
    "    "
   ]
  },
  {
   "cell_type": "code",
   "execution_count": 4,
   "id": "be03a40e",
   "metadata": {},
   "outputs": [
    {
     "name": "stdout",
     "output_type": "stream",
     "text": [
      "홀수\n"
     ]
    }
   ],
   "source": [
    "# 홀수 짝수 판단 => 숫자%2 : 1-> 홀수, 0- > 짝수\n",
    "num=9\n",
    "\n",
    "if num%2==0 :\n",
    "    print('짝수')\n",
    "else :\n",
    "    print('홀수')"
   ]
  },
  {
   "cell_type": "code",
   "execution_count": 13,
   "id": "cb7ed748",
   "metadata": {},
   "outputs": [
    {
     "name": "stdout",
     "output_type": "stream",
     "text": [
      "0\n"
     ]
    }
   ],
   "source": [
    "# 양수 + => num1 > 0\n",
    "# 음수 - => num1 < 0\n",
    "# 0 => num1 == 0 => num1이 0보다 작지도 않고 크지도 않다\n",
    "\n",
    "num1=0\n",
    "if num1>0 :\n",
    "    print('양수')\n",
    "else :\n",
    "    if num1<0 :\n",
    "        print('음수')\n",
    "    else :\n",
    "        print(0)\n"
   ]
  },
  {
   "cell_type": "code",
   "execution_count": 14,
   "id": "902d65bd",
   "metadata": {},
   "outputs": [
    {
     "name": "stdout",
     "output_type": "stream",
     "text": [
      "0\n"
     ]
    }
   ],
   "source": [
    "if num1 > 0 :\n",
    "    print('양수')\n",
    "elif num1 < 0 :\n",
    "    print('음수')\n",
    "else :\n",
    "    print(0)"
   ]
  },
  {
   "cell_type": "code",
   "execution_count": 15,
   "id": "ad93e746",
   "metadata": {},
   "outputs": [
    {
     "name": "stdout",
     "output_type": "stream",
     "text": [
      "PASS\n"
     ]
    }
   ],
   "source": [
    "# 운전면허 시험\n",
    "score = 85\n",
    "check_msg = 'PASS' if score >= 80 else 'FAIL'\n",
    "print(check_msg)"
   ]
  },
  {
   "cell_type": "code",
   "execution_count": 16,
   "id": "87c38b6b",
   "metadata": {},
   "outputs": [
    {
     "name": "stdout",
     "output_type": "stream",
     "text": [
      "PASS\n"
     ]
    }
   ],
   "source": [
    "check_msg = 'PASS'\n",
    "if score < 80 :\n",
    "    check_msg = 'FAIL'\n",
    "\n",
    "print(check_msg)"
   ]
  },
  {
   "cell_type": "code",
   "execution_count": 21,
   "id": "7d4ea838",
   "metadata": {},
   "outputs": [
    {
     "name": "stdout",
     "output_type": "stream",
     "text": [
      "100 <class 'str'> 1925\n"
     ]
    }
   ],
   "source": [
    "# 표준 출력 함수 => print()\n",
    "# 표준 입력 함수 => input()\n",
    "user_age = input('나이를 입력하세요!')\n",
    "# 숫자를 입력 받더라도 반환은 str로 문자형을 반환한다.\n",
    "print(user_age, type(user_age), 2025-int(user_age))\n",
    "# input에 아무것도 입력하지 않아도 str을 반환함.\n",
    "# 2025-int(user_age) => 만일 int가 없으면 숫자-문자형이기 때문에 오류가 됨\n"
   ]
  },
  {
   "cell_type": "markdown",
   "id": "e3bec57d",
   "metadata": {},
   "source": [
    "### 독감 예방 접종이 가능한지 여부를 확인하는 프로그램\n",
    "- 15세 미만 혹은 65세 이상의 경우 무료예방접종 가능 메시지 출력"
   ]
  },
  {
   "cell_type": "code",
   "execution_count": 26,
   "id": "d38e9125",
   "metadata": {},
   "outputs": [
    {
     "name": "stdout",
     "output_type": "stream",
     "text": [
      "무료 예방접종이 불가합니다.\n",
      "접종하시는 백신에 따라 비용을 지불해주세요.\n"
     ]
    }
   ],
   "source": [
    "# 변수 선언\n",
    "age = input('나이를 입력하세요 : ')\n",
    "\n",
    "# 조건 작성\n",
    "if int(age) < 15 :\n",
    "    print('무료 예방접종이 가능합니다.')\n",
    "elif int(age) >= 65 :\n",
    "    print('무료 예방접종이 가능합니다.')\n",
    "else :\n",
    "    print('무료 예방접종이 불가합니다.\\n접종하시는 백신에 따라 비용을 지불해주세요.')\n"
   ]
  },
  {
   "cell_type": "code",
   "execution_count": null,
   "id": "11046868",
   "metadata": {},
   "outputs": [
    {
     "name": "stdout",
     "output_type": "stream",
     "text": [
      "접종 대상자가 아닙니다.\n"
     ]
    }
   ],
   "source": [
    "# 간편화\n",
    "if int(age) < 15 or int(age) >= 65 :\n",
    "    print('접종 대상자 입니다.')\n",
    "else :\n",
    "    print('접종 대상자가 아닙니다.')"
   ]
  },
  {
   "cell_type": "code",
   "execution_count": 29,
   "id": "0bc8a14e",
   "metadata": {},
   "outputs": [
    {
     "name": "stdout",
     "output_type": "stream",
     "text": [
      "1\n",
      "2\n",
      "3\n",
      "4\n",
      "5\n"
     ]
    }
   ],
   "source": [
    "# 반복문 : while condition(True/False) :\n",
    "# 조건식을 통해서 반복 -> 탈출이 가능해야 함!\n",
    "cnt = 0\n",
    "\n",
    "while cnt < 5 :          # cnt의 값이 5가 되었을 때 반복문에서 탈출.\n",
    "    cnt = cnt + 1        # while 문을 탈출하기 위한 중요한 키.\n",
    "    print(cnt)"
   ]
  },
  {
   "cell_type": "code",
   "execution_count": 55,
   "id": "df49f5b0",
   "metadata": {},
   "outputs": [
    {
     "name": "stdout",
     "output_type": "stream",
     "text": [
      "1\n",
      "3\n",
      "5\n",
      "7\n",
      "9\n"
     ]
    }
   ],
   "source": [
    "# 1 ~ 10 까지 출력, 홀수만 출력\n",
    "cnt = 0\n",
    "while cnt < 10 :\n",
    "    cnt += 1        # cnt = cnt +1\n",
    "    if cnt%2 == 1 :\n",
    "        print(cnt)"
   ]
  },
  {
   "cell_type": "code",
   "execution_count": 57,
   "id": "f6f3078e",
   "metadata": {},
   "outputs": [
    {
     "name": "stdout",
     "output_type": "stream",
     "text": [
      "1\n",
      "3\n",
      "5\n",
      "7\n",
      "9\n"
     ]
    }
   ],
   "source": [
    "cnt = 0\n",
    "while cnt < 10 :\n",
    "    cnt += 1\n",
    "\n",
    "    if cnt%2 == 0:\n",
    "        continue           # 밑에 print(cnt)를 건너뛰고 다시 while 조건문 부터 시작하게 함.\n",
    "\n",
    "    print(cnt)"
   ]
  },
  {
   "cell_type": "code",
   "execution_count": 58,
   "id": "f9cbd769",
   "metadata": {},
   "outputs": [],
   "source": [
    "list_a = [1,2,3,4,5,100,200,300]"
   ]
  },
  {
   "cell_type": "code",
   "execution_count": null,
   "id": "6bbfe221",
   "metadata": {},
   "outputs": [
    {
     "name": "stdout",
     "output_type": "stream",
     "text": [
      "1\n",
      "2\n",
      "3\n",
      "4\n",
      "5\n",
      "100\n",
      "200\n",
      "300\n"
     ]
    }
   ],
   "source": [
    "for i in list_a:        # i는 변수수\n",
    "    print(i)            # 가장 기본적인 for 사용법법"
   ]
  },
  {
   "cell_type": "code",
   "execution_count": 60,
   "id": "0c441250",
   "metadata": {},
   "outputs": [],
   "source": [
    "list_b = [(1,2), (3,4), (5,6)]"
   ]
  },
  {
   "cell_type": "code",
   "execution_count": 64,
   "id": "8b15f082",
   "metadata": {},
   "outputs": [
    {
     "name": "stdout",
     "output_type": "stream",
     "text": [
      "1 2\n",
      "3 4\n",
      "5 6\n"
     ]
    }
   ],
   "source": [
    "for n1, n2 in list_b :\n",
    "    print(n1, n2)"
   ]
  },
  {
   "cell_type": "code",
   "execution_count": 76,
   "id": "4669ee8a",
   "metadata": {},
   "outputs": [
    {
     "name": "stdout",
     "output_type": "stream",
     "text": [
      "1 80 PASS\n",
      "2 50 Fail\n",
      "3 70 PASS\n",
      "4 100 PASS\n",
      "5 55 Fail\n",
      "총점 : 355\n",
      "평균 : 71.0\n"
     ]
    }
   ],
   "source": [
    "# 5명의 학생이 영어 시험을 응시 => 60점 이상 pass 출력\n",
    "# 5명의 영어점수의 총점, 평균 값\n",
    "\n",
    "score_english = [80, 50, 70, 100, 55]\n",
    "num = 0     # 학생 리스트의 일련번호\n",
    "sum = 0     # 총점을 저장\n",
    "\n",
    "for score in score_english :\n",
    "    # 학생의 점수를 비교해서 : pass, fail 처리\n",
    "    # 리스트의 일련번호 출력 : num = num + 1 -> 이용해서 작성\n",
    "    num = num + 1\n",
    "    sum = sum + score\n",
    "    if score >= 60 :\n",
    "        print(num, score, 'PASS')\n",
    "    else :\n",
    "        print(num, score, 'Fail')\n",
    "\n",
    "print('총점 :', sum)\n",
    "print('평균 :', sum/len(score_english))\n",
    "# len(s): 입력 값 s의 길이(요소의 전체 개수)를  리턴"
   ]
  },
  {
   "cell_type": "code",
   "execution_count": null,
   "id": "31e01104",
   "metadata": {},
   "outputs": [],
   "source": [
    "# range 함수 : 일련 번호 생성 함수\n",
    "nums_1 = range(10)        # 0 ~ 10-1 까지의 데이터를 생성. 즉, 탈출값"
   ]
  },
  {
   "cell_type": "code",
   "execution_count": 82,
   "id": "3928f46c",
   "metadata": {},
   "outputs": [
    {
     "name": "stdout",
     "output_type": "stream",
     "text": [
      "0, 1, 2, 3, 4, 5, 6, 7, 8, 9, "
     ]
    }
   ],
   "source": [
    "for num in nums_1 :\n",
    "    print(num, end=', ')  # 10을 넣으면 탈출, 즉, 10이 되기 전 9까지 출력"
   ]
  },
  {
   "cell_type": "code",
   "execution_count": null,
   "id": "f20762cf",
   "metadata": {},
   "outputs": [
    {
     "name": "stdout",
     "output_type": "stream",
     "text": [
      "3 4 5 6 7 "
     ]
    }
   ],
   "source": [
    "for num in range(3, 8) :    # 3, 4, 5, 6, 7 예상. 3부터 시작 8이 되면 탈출.\n",
    "    print(num, end=' ')"
   ]
  },
  {
   "cell_type": "code",
   "execution_count": 85,
   "id": "d6ab4c6d",
   "metadata": {},
   "outputs": [
    {
     "name": "stdout",
     "output_type": "stream",
     "text": [
      "2 4 6 8 10 "
     ]
    }
   ],
   "source": [
    "for num in range(2, 11, 2) :    # 2 ~ 11까지 2씩 증가\n",
    "    print(num, end=' ')"
   ]
  },
  {
   "cell_type": "code",
   "execution_count": 88,
   "id": "11fdcc68",
   "metadata": {},
   "outputs": [
    {
     "name": "stdout",
     "output_type": "stream",
     "text": [
      "2 단\n",
      "2X1=2 2X2=4 2X3=6 2X4=8 2X5=10 2X6=12 2X7=14 2X8=16 2X9=18 \n",
      "3 단\n",
      "3X1=3 3X2=6 3X3=9 3X4=12 3X5=15 3X6=18 3X7=21 3X8=24 3X9=27 \n",
      "4 단\n",
      "4X1=4 4X2=8 4X3=12 4X4=16 4X5=20 4X6=24 4X7=28 4X8=32 4X9=36 \n",
      "5 단\n",
      "5X1=5 5X2=10 5X3=15 5X4=20 5X5=25 5X6=30 5X7=35 5X8=40 5X9=45 \n",
      "6 단\n",
      "6X1=6 6X2=12 6X3=18 6X4=24 6X5=30 6X6=36 6X7=42 6X8=48 6X9=54 \n",
      "7 단\n",
      "7X1=7 7X2=14 7X3=21 7X4=28 7X5=35 7X6=42 7X7=49 7X8=56 7X9=63 \n",
      "8 단\n",
      "8X1=8 8X2=16 8X3=24 8X4=32 8X5=40 8X6=48 8X7=56 8X8=64 8X9=72 \n",
      "9 단\n",
      "9X1=9 9X2=18 9X3=27 9X4=36 9X5=45 9X6=54 9X7=63 9X8=72 9X9=81 \n"
     ]
    }
   ],
   "source": [
    "# 구구단 : 2~9단  => 2~9까지 반복\n",
    "# 각 단 : X 1 ~ X 9 => 1~9까지 반복\n",
    "for dan in range(2, 10):\n",
    "    print(f'{dan} 단')\n",
    "    for i in range(1, 10):\n",
    "        print(f'{dan}X{i}={dan*i}', end=' ')\n",
    "    print()"
   ]
  },
  {
   "cell_type": "code",
   "execution_count": null,
   "id": "ea4482d7",
   "metadata": {},
   "outputs": [],
   "source": [
    "# 리스트의 컴프리헨션\n",
    "# [표현식 for 변수 in list if 조건식(변수)]       // 표현식 = 사용해야 할 데이터"
   ]
  },
  {
   "cell_type": "code",
   "execution_count": 91,
   "id": "39aae230",
   "metadata": {},
   "outputs": [
    {
     "name": "stdout",
     "output_type": "stream",
     "text": [
      "[3, 9]\n"
     ]
    }
   ],
   "source": [
    "list_2 = [1,2,3,4]\n",
    "\n",
    "# 결과 리스트\n",
    "list_result = []\n",
    "for num in list_2:\n",
    "    if num%2==1:\n",
    "        list_result.append(num*3)\n",
    "\n",
    "print(list_result)"
   ]
  },
  {
   "cell_type": "code",
   "execution_count": 92,
   "id": "f4f841ec",
   "metadata": {},
   "outputs": [
    {
     "name": "stdout",
     "output_type": "stream",
     "text": [
      "[3, 9]\n"
     ]
    }
   ],
   "source": [
    "list_result_2 = [num*3 for num in list_2 if num%2==1]\n",
    "print(list_result_2)"
   ]
  },
  {
   "cell_type": "code",
   "execution_count": 90,
   "id": "e1503271",
   "metadata": {},
   "outputs": [
    {
     "name": "stdout",
     "output_type": "stream",
     "text": [
      "[3, 6, 9, 12]\n"
     ]
    }
   ],
   "source": [
    "list_result_1 = [num*3 for num in list_2]\n",
    "print(list_result_1)"
   ]
  },
  {
   "cell_type": "markdown",
   "id": "4d7a55aa",
   "metadata": {},
   "source": [
    "## if 문\n",
    "### 특정 연도 건강검진 대상 여부 판별 및 검진 종류 확인\n",
    "조건\n",
    "- 매개변수로 올해 연도와 태어난 해(연도)를 전달받음\n",
    "- 대한민국 성인(20세)의 경우 무료로 2년마다 건강검진을 받을 수 있음\n",
    "- 짝수 해에 태어난 사람은 올해가 짝수년이라면 검사 대상이 됨\n",
    "- 40 이상의 경우는 암 검사도 무료로 검사할 수 있음"
   ]
  },
  {
   "cell_type": "code",
   "execution_count": null,
   "id": "669fad05",
   "metadata": {},
   "outputs": [
    {
     "name": "stdout",
     "output_type": "stream",
     "text": [
      "현재 검사 대상자가 아닙니다.\n"
     ]
    }
   ],
   "source": [
    "# 변수 선언\n",
    "year = input('올해 연도를 입력하세요 : ')\n",
    "birth = input('태어난 연도를 입력하세요 : ')\n",
    "\n",
    "# 조건 입력\n",
    "if int(year)-int(birth) >= 20 and int(birth)%2==0 & int(year)%2==0 :\n",
    "    print('올해는 짝수년으로 검사 대상자 입니다.')\n",
    "    if int(year)-int(birth) >= 40 :\n",
    "        print('40세 이상으로 암 검사도 무료 대상자 입니다.')\n",
    "else :\n",
    "    print('현재 검사 대상자가 아닙니다.')"
   ]
  },
  {
   "cell_type": "markdown",
   "id": "ecf2c917",
   "metadata": {},
   "source": [
    "### 반복문\n",
    "1. 1부터 100까지의 합을 구하는 프로그램 작성\n",
    "2. for 문을 이용하여 1부터 10까지를 곱한 결과를 출력하는 프로그램 작성\n",
    "3. 구구단의 짝수 단(2,4,6,8)만 출력하는 프로그램 작성\n",
    "- 단, 2단은 2X2까지, 4단은 4X4까지, 6단은 6X6까지, 8단은 8X8까지 출력\n",
    "4. while문을 무한 루프로 구성하여 작성하는 예제\n",
    "- 1부터 시작해서 모든 짝수와 3의 배수를 더해서 그 합이 언제 1000이 넘어서는지, 그리고 1000이 넘어선 값은 얼마가 되는지 계산하여 출력"
   ]
  },
  {
   "cell_type": "code",
   "execution_count": 110,
   "id": "fc0a30c4",
   "metadata": {},
   "outputs": [
    {
     "name": "stdout",
     "output_type": "stream",
     "text": [
      "1부터 100까지의 합은: 5050\n"
     ]
    }
   ],
   "source": [
    "# 1번\n",
    "cnt =0\n",
    "\n",
    "for i in range(1,101):\n",
    "    cnt += i\n",
    "\n",
    "print('1부터 100까지의 합은:', cnt)"
   ]
  },
  {
   "cell_type": "code",
   "execution_count": 112,
   "id": "53274752",
   "metadata": {},
   "outputs": [
    {
     "name": "stdout",
     "output_type": "stream",
     "text": [
      "1부터 10까지 곱한 결과: 3628800\n"
     ]
    }
   ],
   "source": [
    "# 2번\n",
    "cnt = 1\n",
    "\n",
    "for i in range(1,11):\n",
    "    cnt=cnt*i\n",
    "\n",
    "print('1부터 10까지 곱한 결과:', cnt)"
   ]
  },
  {
   "cell_type": "code",
   "execution_count": null,
   "id": "b90969f2",
   "metadata": {},
   "outputs": [
    {
     "name": "stdout",
     "output_type": "stream",
     "text": [
      "2 단\n",
      "2X1=2 2X2=4 \n",
      "4 단\n",
      "4X1=4 4X2=8 4X3=12 4X4=16 \n",
      "6 단\n",
      "6X1=6 6X2=12 6X3=18 6X4=24 6X5=30 6X6=36 \n",
      "8 단\n",
      "8X1=8 8X2=16 8X3=24 8X4=32 8X5=40 8X6=48 8X7=56 8X8=64 \n"
     ]
    }
   ],
   "source": [
    "# 3번\n",
    "for dan in range(2, 10, 2):\n",
    "    print(f'{dan} 단')\n",
    "    for i in range(1, dan+1):\n",
    "        print(f'{dan}X{i}={dan*i}', end=' ')\n",
    "    print()"
   ]
  },
  {
   "cell_type": "code",
   "execution_count": null,
   "id": "8d468d41",
   "metadata": {},
   "outputs": [
    {
     "name": "stdout",
     "output_type": "stream",
     "text": [
      "1000을 넘어선 값: 1055\n",
      "마지막으로 더한 숫자: 56\n"
     ]
    }
   ],
   "source": [
    "# 4번 (이해를 제대로 못한 문제)\n",
    "# 무한 루프를 사용해 조건에 맞는 수를 더한 후 1000 초과 시 종료하는 예제\n",
    "\n",
    "total = 0  # 누적합\n",
    "number = 1  # 시작 숫자\n",
    "\n",
    "while True:\n",
    "    if number % 2 == 0 or number % 3 == 0:\n",
    "        total += number     # total = total + number\n",
    "    if total > 1000:\n",
    "        break\n",
    "    number += 1\n",
    "\n",
    "print(\"1000을 넘어선 값:\", total)\n",
    "print(\"마지막으로 더한 숫자:\", number)"
   ]
  },
  {
   "cell_type": "code",
   "execution_count": null,
   "id": "d68925c4",
   "metadata": {},
   "outputs": [],
   "source": []
  },
  {
   "cell_type": "code",
   "execution_count": null,
   "id": "9ac169f1",
   "metadata": {},
   "outputs": [],
   "source": []
  }
 ],
 "metadata": {
  "kernelspec": {
   "display_name": ".venv",
   "language": "python",
   "name": "python3"
  },
  "language_info": {
   "codemirror_mode": {
    "name": "ipython",
    "version": 3
   },
   "file_extension": ".py",
   "mimetype": "text/x-python",
   "name": "python",
   "nbconvert_exporter": "python",
   "pygments_lexer": "ipython3",
   "version": "3.13.4"
  }
 },
 "nbformat": 4,
 "nbformat_minor": 5
}
